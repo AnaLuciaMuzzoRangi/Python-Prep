{
 "cells": [
  {
   "attachments": {},
   "cell_type": "markdown",
   "metadata": {},
   "source": [
    "Solucion Homework 3 "
   ]
  },
  {
   "attachments": {},
   "cell_type": "markdown",
   "metadata": {},
   "source": [
    "1) Crear una variable que contenga un elemento del conjunto de números enteros y luego imprimir por pantalla si es mayor o menor a cero"
   ]
  },
  {
   "cell_type": "code",
   "execution_count": 6,
   "metadata": {},
   "outputs": [
    {
     "name": "stdout",
     "output_type": "stream",
     "text": [
      "la variable es mayor a cero\n"
     ]
    }
   ],
   "source": [
    "x = 7\n",
    "if (x < 0):\n",
    "    print(\"la variable es menor a cero\")\n",
    "elif (x > 0):\n",
    "    print(\"la variable es mayor a cero\")\n",
    "else:\n",
    "    print(\"la variable es igual a cero\")\n"
   ]
  },
  {
   "attachments": {},
   "cell_type": "markdown",
   "metadata": {},
   "source": [
    "2) Crear dos variables y un condicional que informe si son del mismo tipo de dato"
   ]
  },
  {
   "cell_type": "code",
   "execution_count": 13,
   "metadata": {},
   "outputs": [
    {
     "name": "stdout",
     "output_type": "stream",
     "text": [
      "las variables son distintos tipo de dato\n"
     ]
    }
   ],
   "source": [
    "a = 2\n",
    "b = \"dos\"\n",
    "\n",
    "if(type(a) == type(b)):\n",
    "    print(\"las variables son del mismo tipo de dato\")\n",
    "else:\n",
    "    print(\"las variables son distintos tipo de dato\")"
   ]
  },
  {
   "attachments": {},
   "cell_type": "markdown",
   "metadata": {},
   "source": [
    "3) Para los valores enteros del 1 al 20, imprimir por pantalla si es par o impar"
   ]
  },
  {
   "cell_type": "code",
   "execution_count": 15,
   "metadata": {},
   "outputs": [
    {
     "name": "stdout",
     "output_type": "stream",
     "text": [
      " el numero 1 es impar\n",
      " el numero 2 es par\n",
      " el numero 3 es impar\n",
      " el numero 4 es par\n",
      " el numero 5 es impar\n",
      " el numero 6 es par\n",
      " el numero 7 es impar\n",
      " el numero 8 es par\n",
      " el numero 9 es impar\n",
      " el numero 10 es par\n",
      " el numero 11 es impar\n",
      " el numero 12 es par\n",
      " el numero 13 es impar\n",
      " el numero 14 es par\n",
      " el numero 15 es impar\n",
      " el numero 16 es par\n",
      " el numero 17 es impar\n",
      " el numero 18 es par\n",
      " el numero 19 es impar\n",
      " el numero 20 es par\n"
     ]
    }
   ],
   "source": [
    "for n in range(1,21):\n",
    "    if n % 2 == 0: \n",
    "        print(\" el numero\", str(n) ,\"es par\")\n",
    "    else:\n",
    "        print(\" el numero\", str(n) , \"es impar\")\n",
    "\n"
   ]
  },
  {
   "attachments": {},
   "cell_type": "markdown",
   "metadata": {},
   "source": [
    "4) En un ciclo for mostrar para los valores entre 0 y 5 el resultado de elevarlo a la potencia igual a 3"
   ]
  },
  {
   "cell_type": "code",
   "execution_count": 17,
   "metadata": {},
   "outputs": [
    {
     "name": "stdout",
     "output_type": "stream",
     "text": [
      "valor : 0 elevado a la 3era potencia es 0\n",
      "valor : 1 elevado a la 3era potencia es 1\n",
      "valor : 2 elevado a la 3era potencia es 8\n",
      "valor : 3 elevado a la 3era potencia es 27\n",
      "valor : 4 elevado a la 3era potencia es 64\n",
      "valor : 5 elevado a la 3era potencia es 125\n"
     ]
    }
   ],
   "source": [
    "#opcion 1 que esta bien seria escribir\n",
    "#for n in range (0,6):\n",
    "#print(n**3)\n",
    "\n",
    "#opcion 2 que es la que se muestra en la resolucion \n",
    "for n in range (0,6):\n",
    "    print(\"valor :\" , str(n) , \"elevado a la 3era potencia es\" , str(n**3))\n"
   ]
  },
  {
   "attachments": {},
   "cell_type": "markdown",
   "metadata": {},
   "source": [
    "5) Crear una variable que contenga un número entero y realizar un ciclo for la misma cantidad de ciclos"
   ]
  },
  {
   "cell_type": "code",
   "execution_count": 27,
   "metadata": {},
   "outputs": [
    {
     "name": "stdout",
     "output_type": "stream",
     "text": [
      "0\n",
      "1\n",
      "2\n",
      "3\n",
      "4\n"
     ]
    }
   ],
   "source": [
    "n = 5\n",
    "for i in range (0,n):\n",
    "    pass #generalmente se usa para dejar un espacio momentaneo y que se ejecute el code sin tirar error\n",
    "    print(i)\n"
   ]
  },
  {
   "attachments": {},
   "cell_type": "markdown",
   "metadata": {},
   "source": [
    "6) Utilizar un ciclo while para realizar el factorial de un número guardado en una variable, sólo si la variable contiene un número entero mayor a 0"
   ]
  },
  {
   "cell_type": "code",
   "execution_count": 29,
   "metadata": {},
   "outputs": [
    {
     "name": "stdout",
     "output_type": "stream",
     "text": [
      "El factorial es 120\n"
     ]
    }
   ],
   "source": [
    "n = 5\n",
    "if (type(n) == int):\n",
    "    if (n > 0):\n",
    "        factorial = n\n",
    "        while (n > 2):\n",
    "            n = n - 1\n",
    "            factorial = factorial * n\n",
    "        print('El factorial es', factorial)\n",
    "    else:\n",
    "        print('La variable no es mayor a cero')\n",
    "else:\n",
    "    print('La variable no es un entero')"
   ]
  },
  {
   "attachments": {},
   "cell_type": "markdown",
   "metadata": {},
   "source": [
    "7) Crear un ciclo for dentro de un ciclo while"
   ]
  },
  {
   "cell_type": "code",
   "execution_count": 30,
   "metadata": {},
   "outputs": [
    {
     "name": "stdout",
     "output_type": "stream",
     "text": [
      "Ciclo while nro 2\n",
      "Ciclo for nro 1\n",
      "Ciclo while nro 3\n",
      "Ciclo for nro 1\n",
      "Ciclo while nro 3\n",
      "Ciclo for nro 2\n",
      "Ciclo while nro 4\n",
      "Ciclo for nro 1\n",
      "Ciclo while nro 4\n",
      "Ciclo for nro 2\n",
      "Ciclo while nro 4\n",
      "Ciclo for nro 3\n",
      "Ciclo while nro 5\n",
      "Ciclo for nro 1\n",
      "Ciclo while nro 5\n",
      "Ciclo for nro 2\n",
      "Ciclo while nro 5\n",
      "Ciclo for nro 3\n",
      "Ciclo while nro 5\n",
      "Ciclo for nro 4\n"
     ]
    }
   ],
   "source": [
    "n = 0\n",
    "while(n < 5):\n",
    "    n += 1\n",
    "    for i in range(1,n):\n",
    "        print('Ciclo while nro ' + str(n))\n",
    "        print('Ciclo for nro ' + str(i))"
   ]
  },
  {
   "cell_type": "code",
   "execution_count": 35,
   "metadata": {},
   "outputs": [
    {
     "name": "stdout",
     "output_type": "stream",
     "text": [
      "interaccion i del while: 3\n",
      "interaccion j del for: 1\n",
      "interaccion j del for: 2\n",
      "interaccion j del for: 3\n",
      "interaccion i del while: 2\n",
      "interaccion j del for: 1\n",
      "interaccion j del for: 2\n",
      "interaccion j del for: 3\n",
      "interaccion i del while: 1\n",
      "interaccion j del for: 1\n",
      "interaccion j del for: 2\n",
      "interaccion j del for: 3\n"
     ]
    }
   ],
   "source": [
    "i = 3\n",
    "while(i>0):\n",
    "    print(\"interaccion i del while:\", i)\n",
    "    for j in range (1,4):\n",
    "            print(\"interaccion j del for:\", j)\n",
    "    i -=1"
   ]
  },
  {
   "attachments": {},
   "cell_type": "markdown",
   "metadata": {},
   "source": [
    "8) Crear un ciclo while dentro de un ciclo for"
   ]
  },
  {
   "cell_type": "code",
   "execution_count": 43,
   "metadata": {},
   "outputs": [
    {
     "name": "stdout",
     "output_type": "stream",
     "text": [
      "Ciclo for nro 1\n",
      "Ciclo while nro 9\n",
      "Ciclo while nro 8\n",
      "Ciclo while nro 7\n",
      "Ciclo while nro 6\n",
      "Ciclo while nro 5\n",
      "Ciclo for nro 2\n",
      "Ciclo for nro 3\n",
      "Ciclo for nro 4\n",
      "Ciclo for nro 5\n",
      "Ciclo for nro 6\n",
      "Ciclo for nro 7\n",
      "Ciclo for nro 8\n",
      "Ciclo for nro 9\n"
     ]
    }
   ],
   "source": [
    "n = 10\n",
    "for i in range(1, n):\n",
    "    print('Ciclo for nro ' + str(i))\n",
    "    while(n > 5):\n",
    "        n -= 1\n",
    "        print('Ciclo while nro ' + str(n))\n",
    "        \n",
    "        "
   ]
  },
  {
   "attachments": {},
   "cell_type": "markdown",
   "metadata": {},
   "source": [
    "9) Imprimir los números primos existentes entre 0 y 30"
   ]
  },
  {
   "attachments": {},
   "cell_type": "markdown",
   "metadata": {},
   "source": [
    "##Los numeros primos son aquellos numeros que solo son divisibles por si mismos y por 1. sin resto \n",
    "##el numero 1 no es un numero primo por lo tanto no se lo toma como valor para hacer el ciclo for"
   ]
  },
  {
   "cell_type": "code",
   "execution_count": 47,
   "metadata": {},
   "outputs": [
    {
     "name": "stdout",
     "output_type": "stream",
     "text": [
      "2 es primo.\n",
      "3 es primo.\n",
      "5 es primo.\n",
      "7 es primo.\n",
      "11 es primo.\n",
      "13 es primo.\n",
      "17 es primo.\n",
      "19 es primo.\n",
      "23 es primo.\n",
      "29 es primo.\n"
     ]
    }
   ],
   "source": [
    "for valor in range(2,31):\n",
    "    primo = True\n",
    "    for div in range (2,valor):\n",
    "        if(valor%div == 0):\n",
    "            primo = False \n",
    "    if primo:\n",
    "        print(valor, \"es primo.\")"
   ]
  },
  {
   "attachments": {},
   "cell_type": "markdown",
   "metadata": {},
   "source": [
    "10) ¿Se puede mejorar el proceso del punto 9? Utilizar las sentencias break y/ó continue para tal fin"
   ]
  },
  {
   "cell_type": "code",
   "execution_count": 48,
   "metadata": {},
   "outputs": [
    {
     "name": "stdout",
     "output_type": "stream",
     "text": [
      "2 es primo.\n",
      "3 es primo.\n",
      "5 es primo.\n",
      "7 es primo.\n",
      "11 es primo.\n",
      "13 es primo.\n",
      "17 es primo.\n",
      "19 es primo.\n",
      "23 es primo.\n",
      "29 es primo.\n"
     ]
    }
   ],
   "source": [
    "for valor in range(2,31):\n",
    "    primo = True\n",
    "    for div in range (2,valor):\n",
    "        if(valor%div == 0):\n",
    "            primo = False \n",
    "            break\n",
    "    if primo:\n",
    "        print(valor, \"es primo.\")"
   ]
  }
 ],
 "metadata": {
  "kernelspec": {
   "display_name": "Python 3",
   "language": "python",
   "name": "python3"
  },
  "language_info": {
   "codemirror_mode": {
    "name": "ipython",
    "version": 3
   },
   "file_extension": ".py",
   "mimetype": "text/x-python",
   "name": "python",
   "nbconvert_exporter": "python",
   "pygments_lexer": "ipython3",
   "version": "3.11.1"
  },
  "orig_nbformat": 4,
  "vscode": {
   "interpreter": {
    "hash": "61bc7fa2fd7f9fc53f8b3741c33cfd763f7d39a53ed7e5132e9fc12521cfa08d"
   }
  }
 },
 "nbformat": 4,
 "nbformat_minor": 2
}
