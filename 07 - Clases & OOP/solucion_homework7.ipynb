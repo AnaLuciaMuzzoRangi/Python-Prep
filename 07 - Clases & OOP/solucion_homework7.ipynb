{
 "cells": [
  {
   "attachments": {},
   "cell_type": "markdown",
   "metadata": {},
   "source": [
    "# Solucion homework - Clases y OOP"
   ]
  },
  {
   "attachments": {},
   "cell_type": "markdown",
   "metadata": {},
   "source": [
    "1) Crear la clase vehículo que contenga los atributos:<br>\n",
    "Color<br>\n",
    "Si es moto, auto, camioneta ó camión<br>\n",
    "Cilindrada del motor"
   ]
  },
  {
   "cell_type": "code",
   "execution_count": 11,
   "metadata": {},
   "outputs": [],
   "source": [
    "class vehiculo:\n",
    "    def __init__(self, color, tipo, cilindrada):\n",
    "        self.color = color \n",
    "        self.tipo = tipo \n",
    "        self.cilindrada = cilindrada "
   ]
  },
  {
   "attachments": {},
   "cell_type": "markdown",
   "metadata": {},
   "source": [
    "\n",
    "2) A la clase Vehiculo creada en el punto 1, agregar los siguientes métodos:<br>\n",
    "Acelerar<br>\n",
    "Frenar<br>\n",
    "Doblar<br>"
   ]
  },
  {
   "cell_type": "code",
   "execution_count": 12,
   "metadata": {},
   "outputs": [],
   "source": [
    "class vehiculo:\n",
    "    def __init__(self, color, tipo, cilindrada):\n",
    "        self.color = color \n",
    "        self.tipo = tipo \n",
    "        self.cilindrada = cilindrada \n",
    "        self.velocidad = 0\n",
    "        self.direccion = 0\n",
    "    \n",
    "    def Acelerar (Self, vel):\n",
    "        self.velocidad += vel\n",
    "    def Frenar (Self, vel):\n",
    "        self.velocidad -= vel\n",
    "    def Doblar (Self, grados):\n",
    "        self.direccion += grados "
   ]
  },
  {
   "attachments": {},
   "cell_type": "markdown",
   "metadata": {},
   "source": [
    "3) Instanciar 3 objetos de la clase vehículo y ejecutar sus métodos, probar luego el resultado"
   ]
  },
  {
   "cell_type": "code",
   "execution_count": 14,
   "metadata": {},
   "outputs": [],
   "source": [
    "a1 = vehiculo(\"rojo\", \"auto\", \"2.0\")\n",
    "a2 = vehiculo(\"camioneta\", \"negra\", \"3.5\")\n",
    "a3 = vehiculo(\"moto\",\"azul\",\"1.5\")\n"
   ]
  },
  {
   "attachments": {},
   "cell_type": "markdown",
   "metadata": {},
   "source": [
    "4) Agregar a la clase Vehiculo, un método que muestre su estado, es decir, a que velocidad se encuentra y su dirección. Y otro método que muestre color, tipo y cilindrada"
   ]
  },
  {
   "cell_type": "code",
   "execution_count": 26,
   "metadata": {},
   "outputs": [],
   "source": [
    "class vehiculo:\n",
    "    def __init__(self, color, tipo, cilindrada):\n",
    "        self.color = color \n",
    "        self.tipo = tipo \n",
    "        self.cilindrada = cilindrada \n",
    "        self.velocidad = 0\n",
    "        self.direccion = 0\n",
    "    \n",
    "    def Acelerar (Self, vel):\n",
    "        Self.velocidad += vel\n",
    "    def Frenar (Self, vel):\n",
    "        Self.velocidad -= vel\n",
    "    def Doblar (Self, grados):\n",
    "        Self.direccion += grados \n",
    "    def Estado (Self):\n",
    "        print (\"velocidad\", Self.velocidad, \"su direccion\", Self.direccion)\n",
    "    def Detalle (Self):\n",
    "        print('Soy', Self.tipo, 'de color', Self.color, 'y mi cilindrada es de', Self.cilindrada, 'litros')\n"
   ]
  },
  {
   "cell_type": "code",
   "execution_count": 25,
   "metadata": {},
   "outputs": [
    {
     "name": "stdout",
     "output_type": "stream",
     "text": [
      "Soy auto de color rojo y mi cilindrada es de 2.0 litros\n"
     ]
    }
   ],
   "source": [
    "\n",
    "a1 = vehiculo(\"rojo\", \"auto\", \"2.0\")\n",
    "a1.Detalle()"
   ]
  },
  {
   "attachments": {},
   "cell_type": "markdown",
   "metadata": {},
   "source": [
    "5) Crear una clase que permita utilizar las funciones creadas en la práctica del módulo 6<br>\n",
    "Verificar Primo<br>\n",
    "Valor modal<br>\n",
    "Conversión grados<br>\n",
    "Factorial<br>"
   ]
  },
  {
   "cell_type": "code",
   "execution_count": 50,
   "metadata": {},
   "outputs": [],
   "source": [
    "class Herramientas: \n",
    "    def __init__(self):\n",
    "        pass\n",
    "\n",
    "    def verifica_primo (self, valor):\n",
    "        es_primo = True \n",
    "        for i in range(2, valor):\n",
    "            if valor % i == 0: \n",
    "                es_primo = False \n",
    "                break \n",
    "        return es_primo\n",
    "    \n",
    "    def valor_modal (self, lista):\n",
    "        lista_unicos = []\n",
    "        lista_repet = []\n",
    "\n",
    "        if len (lista) == 0:\n",
    "            return None \n",
    "        for elemento in lista:\n",
    "            if elemento in lista_unicos:\n",
    "                i = lista_unicos.index (elemento)\n",
    "                lista_repet.append (1)\n",
    "\n",
    "        moda = lista_unicos [0]\n",
    "        maximo = lista_repet [0]\n",
    "\n",
    "        for i, elemento in enumerate (lista_unicos):\n",
    "            if lista_repet [i]> maximo:\n",
    "                moda = lista_unicos [i]\n",
    "                maximo = lista_repet [i]\n",
    "        return moda, maximo \n",
    "         \n",
    "    def conversion_grados (self, valor, origen, destino):\n",
    "\n",
    "        if (origen == \"celsius\"):\n",
    "\n",
    "            if(destino == \"celsius\"):\n",
    "                valor_destino = valor \n",
    "            elif (destino == \"farenheit\"):\n",
    "                valor_destino = (valor * 9/ 5) + 32 \n",
    "            elif (destino == \"kelvin\"):\n",
    "                valor_destino = valor + 273.15 \n",
    "            else:\n",
    "                print (\"Parámetro de destino incorrecto\")\n",
    "\n",
    "        elif (origen == \"farenheit\"):\n",
    "\n",
    "            if (destino == \"celsius\"):\n",
    "                valor_destino = (valor- 32) * 5/ 9\n",
    "            elif (destino == \"farenheit\"):\n",
    "                valor_destino = valor \n",
    "            elif (destino == \"kelvin\"):\n",
    "                valor_destino = ((valor -32) * 5/ 9) + 273.15\n",
    "            else: \n",
    "                print (\"Parámetro de destino incorrecto\")\n",
    "\n",
    "        elif (origen == \"kelvin\"):\n",
    "\n",
    "            if (destino == \"celsius\"):\n",
    "                valor_destino = valor - 273.15 \n",
    "            elif (destino == \"farenheit\"): \n",
    "                valor_destino = ((valor - 273.15) * 9/ 5) + 32\n",
    "            elif (destino == \"kelvin\"):\n",
    "                valor_destino = valor \n",
    "            else: \n",
    "                print (\"Parámetro de destino incorrecto\")\n",
    "        \n",
    "        else: \n",
    "            print (\"Parámetro de origen incorrecto\")\n",
    "\n",
    "        return valor_destino        \n",
    "\n",
    "\n",
    "    def factorial (Self, numero):\n",
    "        if (type(numero) != int):\n",
    "            return \"El numero debe ser un entero\"\n",
    "        if (numero < 0):\n",
    "            return \"El numero debe ser positivo\"\n",
    "        if (numero > 1):\n",
    "            numero = numero * Self.factorial(numero - 1)\n",
    "        return numero "
   ]
  },
  {
   "attachments": {},
   "cell_type": "markdown",
   "metadata": {},
   "source": [
    "6) Probar las funciones incorporadas en la clase del punto 5"
   ]
  },
  {
   "cell_type": "code",
   "execution_count": 51,
   "metadata": {},
   "outputs": [],
   "source": [
    "h = Herramientas()"
   ]
  },
  {
   "cell_type": "code",
   "execution_count": 52,
   "metadata": {},
   "outputs": [
    {
     "data": {
      "text/plain": [
       "True"
      ]
     },
     "execution_count": 52,
     "metadata": {},
     "output_type": "execute_result"
    }
   ],
   "source": [
    "h.verifica_primo(7)"
   ]
  },
  {
   "cell_type": "code",
   "execution_count": 53,
   "metadata": {},
   "outputs": [
    {
     "data": {
      "text/plain": [
       "44.6"
      ]
     },
     "execution_count": 53,
     "metadata": {},
     "output_type": "execute_result"
    }
   ],
   "source": [
    "h.conversion_grados(7, \"celsius\", \"farenheit\")\n"
   ]
  },
  {
   "cell_type": "code",
   "execution_count": 54,
   "metadata": {},
   "outputs": [
    {
     "data": {
      "text/plain": [
       "120"
      ]
     },
     "execution_count": 54,
     "metadata": {},
     "output_type": "execute_result"
    }
   ],
   "source": [
    "h.factorial(5)"
   ]
  },
  {
   "attachments": {},
   "cell_type": "markdown",
   "metadata": {},
   "source": [
    "7) Es necesario que la clase creada en el punto 5 contenga una lista, sobre la cual se aplquen las funciones incorporadas"
   ]
  },
  {
   "cell_type": "code",
   "execution_count": 55,
   "metadata": {},
   "outputs": [],
   "source": [
    "class Herramientas:\n",
    "    def __init__(self, lista_numeros):\n",
    "        self.lista = lista_numeros\n",
    "\n",
    "    def verifica_primo(self):\n",
    "        for i in self.lista:\n",
    "            if (self.__verifica_primo(i)):\n",
    "                print('El elemento', i, 'SI es un numero primo')\n",
    "            else:\n",
    "                print('El elemento', i, 'NO es un numero primo')\n",
    "\n",
    "    def conversion_grados(self, origen, destino):\n",
    "        for i in self.lista:\n",
    "            print(i, 'grados', origen, 'son', self.__conversion_grados(i, origen, destino),'grados',destino)\n",
    "    \n",
    "    def factorial(self):\n",
    "        for i in self.lista:\n",
    "            print('El factorial de ', i, 'es', self.__factorial(i))\n",
    "\n",
    "    def __verifica_primo(self, nro):\n",
    "        es_primo = True\n",
    "        for i in range(2, nro):\n",
    "            if nro % i == 0:\n",
    "                es_primo = False\n",
    "                break\n",
    "        return es_primo\n",
    "\n",
    "    def valor_modal(self, menor):\n",
    "        lista_unicos = []\n",
    "        lista_repeticiones = []\n",
    "        if len(self.lista) == 0:\n",
    "            return None\n",
    "        if (menor):\n",
    "            self.lista.sort()\n",
    "        else:\n",
    "            self.lista.sort(reverse=True)\n",
    "        for elemento in self.lista:\n",
    "            if elemento in lista_unicos:\n",
    "                i = lista_unicos.index(elemento)\n",
    "                lista_repeticiones[i] += 1\n",
    "            else:\n",
    "                lista_unicos.append(elemento)\n",
    "                lista_repeticiones.append(1)\n",
    "        moda = lista_unicos[0]\n",
    "        maximo = lista_repeticiones[0]\n",
    "        for i, elemento in enumerate(lista_unicos):\n",
    "            if lista_repeticiones[i] > maximo:\n",
    "                moda = lista_unicos[i]\n",
    "                maximo = lista_repeticiones[i]\n",
    "        return moda, maximo\n",
    "\n",
    "    def __conversion_grados(self, valor, origen, destino):\n",
    "        valor_destino = None\n",
    "        if (origen == 'celsius'):\n",
    "            if (destino == 'celsius'):\n",
    "                valor_destino = valor\n",
    "            elif (destino == 'farenheit'):\n",
    "                valor_destino = (valor * 9 / 5) + 32\n",
    "            elif (destino == 'kelvin'):\n",
    "                valor_destino = valor + 273.15\n",
    "            else:\n",
    "                print('Parámetro de Destino incorrecto')\n",
    "        elif (origen == 'farenheit'):\n",
    "            if (destino == 'celsius'):\n",
    "                valor_destino = (valor - 32) * 5 / 9\n",
    "            elif (destino == 'farenheit'):\n",
    "                valor_destino = valor\n",
    "            elif (destino == 'kelvin'):\n",
    "                valor_destino = ((valor - 32) * 5 / 9) + 273.15\n",
    "            else:\n",
    "                print('Parámetro de Destino incorrecto')\n",
    "        elif (origen == 'kelvin'):\n",
    "            if (destino == 'celsius'):\n",
    "                valor_destino = valor - 273.15\n",
    "            elif (destino == 'farenheit'):\n",
    "                valor_destino = ((valor - 273.15) * 9 / 5) + 32\n",
    "            elif (destino == 'kelvin'):\n",
    "                valor_destino = valor\n",
    "            else:\n",
    "                print('Parámetro de Destino incorrecto')\n",
    "        else:\n",
    "            print('Parámetro de Origen incorrecto')\n",
    "        return valor_destino\n",
    "\n",
    "    def __factorial(self, numero):\n",
    "        if(type(numero) != int):\n",
    "            return 'El numero debe ser un entero'\n",
    "        if(numero < 0):\n",
    "            return 'El numero debe ser pisitivo'\n",
    "        if (numero > 1):\n",
    "            numero = numero * self.__factorial(numero - 1)\n",
    "        return numero"
   ]
  },
  {
   "attachments": {},
   "cell_type": "markdown",
   "metadata": {},
   "source": [
    "8) Crear un archivo .py aparte y ubicar allí la clase generada en el punto anterior. Luego realizar la importación del módulo y probar alguna de sus funciones"
   ]
  }
 ],
 "metadata": {
  "kernelspec": {
   "display_name": "Python 3",
   "language": "python",
   "name": "python3"
  },
  "language_info": {
   "codemirror_mode": {
    "name": "ipython",
    "version": 3
   },
   "file_extension": ".py",
   "mimetype": "text/x-python",
   "name": "python",
   "nbconvert_exporter": "python",
   "pygments_lexer": "ipython3",
   "version": "3.11.1"
  },
  "orig_nbformat": 4,
  "vscode": {
   "interpreter": {
    "hash": "61bc7fa2fd7f9fc53f8b3741c33cfd763f7d39a53ed7e5132e9fc12521cfa08d"
   }
  }
 },
 "nbformat": 4,
 "nbformat_minor": 2
}
